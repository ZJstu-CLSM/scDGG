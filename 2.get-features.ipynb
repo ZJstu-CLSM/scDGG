{
 "cells": [
  {
   "cell_type": "code",
   "execution_count": 6,
   "id": "ddf874fe-406e-4513-bacd-8658da59f5b4",
   "metadata": {},
   "outputs": [],
   "source": [
    "import networkx as nx\n",
    "from scipy.sparse import csr_matrix\n",
    "import scanpy as sc\n",
    "import pandas as pd\n",
    "import numpy as np\n",
    "import pickle"
   ]
  },
  {
   "cell_type": "code",
   "execution_count": 7,
   "id": "76a94823-68a1-425f-87a8-0d533386ed01",
   "metadata": {},
   "outputs": [],
   "source": [
    "# 初始化特征矩阵为expr_df.shape[0]行，1600列（根据需要调整）\n",
    "feature_matrix = np.zeros((expr_df.shape[0], 1600))\n",
    "current_feature_index = 0\n",
    "\n",
    "coexp_networks = []\n",
    "for i, file_path in enumerate(network_files):\n",
    "    edges_df = pd.read_csv(file_path)\n",
    "    \n",
    "    # 确保边数据包含 'from', 'to', 和 'weight' 列\n",
    "    if not all(col in edges_df.columns for col in ['from', 'to', 'weight']):\n",
    "        raise ValueError(f\"Edge file {file_path} does not contain required columns ('from', 'to', 'weight')\")\n",
    "    \n",
    "    G = nx.Graph()\n",
    "    for _, row in edges_df.iterrows():\n",
    "        G.add_edge(row['from'], row['to'], weight=row['weight'] * 10)\n",
    "    \n",
    "    # 检查是否成功创建了Graph对象\n",
    "    if not isinstance(G, nx.Graph):\n",
    "        raise TypeError(f\"Expected a NetworkX Graph object, but got {type(G)}\")\n",
    "    \n",
    "    coexp_networks.append(G)\n",
    "\n",
    "# 提取特征\n",
    "for i, net in enumerate(coexp_networks):\n",
    "    communities = nx.algorithms.community.louvain_communities(net)\n",
    "    \n",
    "    # 计算每个社区的加权平均表达值\n",
    "    for c_idx, community in enumerate(communities):\n",
    "        if current_feature_index >= 1600:\n",
    "            break  # 如果已达到所需的特征数，则停止添加新特征\n",
    "        \n",
    "        community = [gene for gene in community if not pd.isnull(gene)]\n",
    "        \n",
    "        # 计算模块内基因的加权平均权重\n",
    "        gene_weights = {gene: sum(net[gene][neighbor]['weight'] for neighbor in net.neighbors(gene)) for gene in community}\n",
    "        \n",
    "        # 加权平均表达值\n",
    "        weighted_module_expr = np.zeros(expr_df.shape[0])\n",
    "        for cell_id, expr_vec in expr_df.iterrows():\n",
    "            weighted_avg_expr = sum(expr_vec.loc[gene] * gene_weights.get(gene, 0) for gene in community) / sum(\n",
    "                gene_weights.values())\n",
    "            weighted_module_expr[cell_id] = weighted_avg_expr\n",
    "        \n",
    "        # 将此模块的特征添加到特征矩阵\n",
    "        feature_matrix[:, current_feature_index] = weighted_module_expr\n",
    "        current_feature_index += 1\n",
    "    \n",
    "    if current_feature_index >= 1600:\n",
    "        break  # 如果已达到所需的特征数，则停止处理后续网络"
   ]
  },
  {
   "cell_type": "code",
   "execution_count": 12,
   "id": "23fd849d-ebbe-4745-97c4-8eb0038d34ad",
   "metadata": {},
   "outputs": [
    {
     "name": "stdout",
     "output_type": "stream",
     "text": [
      "(6050, 1600)\n"
     ]
    }
   ],
   "source": [
    "\n",
    "# 确保特征矩阵大小正确\n",
    "feature_matrix = feature_matrix[:, :1600]\n",
    "print(feature_matrix.shape)\n",
    "\n",
    "# 将特征矩阵转换为DataFrame\n",
    "feature_df = pd.DataFrame(feature_matrix, index=expr_df.index)\n",
    "\n",
    "# 保存为CSV文件\n",
    "output_file_path = \"./data/HC-brain/NoFusion_features.csv\"\n",
    "feature_df.to_csv(output_file_path, index=True)\n"
   ]
  },
  {
   "cell_type": "code",
   "execution_count": null,
   "id": "13af94c2-188f-4bc8-ac57-f25f11ec26f9",
   "metadata": {},
   "outputs": [],
   "source": []
  }
 ],
 "metadata": {
  "kernelspec": {
   "display_name": "Python 3 (ipykernel)",
   "language": "python",
   "name": "python3"
  },
  "language_info": {
   "codemirror_mode": {
    "name": "ipython",
    "version": 3
   },
   "file_extension": ".py",
   "mimetype": "text/x-python",
   "name": "python",
   "nbconvert_exporter": "python",
   "pygments_lexer": "ipython3",
   "version": "3.8.10"
  }
 },
 "nbformat": 4,
 "nbformat_minor": 5
}
